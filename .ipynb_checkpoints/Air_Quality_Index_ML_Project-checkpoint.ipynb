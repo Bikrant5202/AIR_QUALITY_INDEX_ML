{
 "cells": [
  {
   "cell_type": "code",
   "execution_count": 1,
   "metadata": {
    "id": "S4BWF7thPmWG"
   },
   "outputs": [],
   "source": [
    "import pandas as pd\n",
    "import numpy as np\n",
    "import seaborn as sns\n",
    "import matplotlib.pyplot as plt\n",
    "from sklearn.preprocessing import LabelEncoder\n",
    "from numpy import array\n",
    "from numpy import argmax\n",
    "from sklearn.preprocessing import LabelEncoder\n",
    "from sklearn.preprocessing import OneHotEncoder\n",
    "from sklearn.model_selection import train_test_split\n",
    "#Encoding\n",
    "from sklearn.preprocessing import OneHotEncoder\n",
    "from sklearn.compose import ColumnTransformer\n",
    "# Machine Learning Models\n",
    "from sklearn.linear_model import LinearRegression\n",
    "from sklearn.tree import DecisionTreeRegressor\n",
    "from sklearn.ensemble import RandomForestRegressor, BaggingRegressor\n",
    "from sklearn.svm import SVC\n",
    "import xgboost as xgb\n",
    "\n",
    "\n",
    "from sklearn.metrics import mean_squared_error, r2_score\n"
   ]
  },
  {
   "cell_type": "markdown",
   "metadata": {
    "id": "0ZJeANPtM1jX"
   },
   "source": [
    "**IMPORTING NECESSARY LIBRARY**"
   ]
  },
  {
   "cell_type": "markdown",
   "metadata": {
    "id": "vjHlqMKsNPs5"
   },
   "source": [
    "**IMPORTING THE DATASET**"
   ]
  },
  {
   "cell_type": "code",
   "execution_count": 2,
   "metadata": {
    "id": "gbykzwK9W-Kn"
   },
   "outputs": [],
   "source": [
    "df=pd.read_csv(\"air_quality_index.csv\")"
   ]
  },
  {
   "cell_type": "code",
   "execution_count": 3,
   "metadata": {
    "colab": {
     "base_uri": "https://localhost:8080/",
     "height": 206
    },
    "id": "jLOJPsK3XPUy",
    "outputId": "88d1116e-4c35-40f7-ba1c-7913fa5a5783"
   },
   "outputs": [
    {
     "data": {
      "text/html": [
       "<div>\n",
       "<style scoped>\n",
       "    .dataframe tbody tr th:only-of-type {\n",
       "        vertical-align: middle;\n",
       "    }\n",
       "\n",
       "    .dataframe tbody tr th {\n",
       "        vertical-align: top;\n",
       "    }\n",
       "\n",
       "    .dataframe thead th {\n",
       "        text-align: right;\n",
       "    }\n",
       "</style>\n",
       "<table border=\"1\" class=\"dataframe\">\n",
       "  <thead>\n",
       "    <tr style=\"text-align: right;\">\n",
       "      <th></th>\n",
       "      <th>City</th>\n",
       "      <th>Date</th>\n",
       "      <th>PM2.5</th>\n",
       "      <th>PM10</th>\n",
       "      <th>NO</th>\n",
       "      <th>NO2</th>\n",
       "      <th>NOx</th>\n",
       "      <th>NH3</th>\n",
       "      <th>CO</th>\n",
       "      <th>SO2</th>\n",
       "      <th>AQI</th>\n",
       "      <th>AQI_Bucket</th>\n",
       "    </tr>\n",
       "  </thead>\n",
       "  <tbody>\n",
       "    <tr>\n",
       "      <th>0</th>\n",
       "      <td>Ahmedabad</td>\n",
       "      <td>1/1/2015</td>\n",
       "      <td>NaN</td>\n",
       "      <td>NaN</td>\n",
       "      <td>0.92</td>\n",
       "      <td>18.22</td>\n",
       "      <td>17.15</td>\n",
       "      <td>NaN</td>\n",
       "      <td>0.92</td>\n",
       "      <td>27.64</td>\n",
       "      <td>NaN</td>\n",
       "      <td>NaN</td>\n",
       "    </tr>\n",
       "    <tr>\n",
       "      <th>1</th>\n",
       "      <td>Ahmedabad</td>\n",
       "      <td>1/2/2015</td>\n",
       "      <td>NaN</td>\n",
       "      <td>NaN</td>\n",
       "      <td>0.97</td>\n",
       "      <td>15.69</td>\n",
       "      <td>16.46</td>\n",
       "      <td>NaN</td>\n",
       "      <td>0.97</td>\n",
       "      <td>24.55</td>\n",
       "      <td>NaN</td>\n",
       "      <td>NaN</td>\n",
       "    </tr>\n",
       "    <tr>\n",
       "      <th>2</th>\n",
       "      <td>Ahmedabad</td>\n",
       "      <td>1/3/2015</td>\n",
       "      <td>NaN</td>\n",
       "      <td>NaN</td>\n",
       "      <td>17.40</td>\n",
       "      <td>19.30</td>\n",
       "      <td>29.70</td>\n",
       "      <td>NaN</td>\n",
       "      <td>17.40</td>\n",
       "      <td>29.07</td>\n",
       "      <td>NaN</td>\n",
       "      <td>NaN</td>\n",
       "    </tr>\n",
       "    <tr>\n",
       "      <th>3</th>\n",
       "      <td>Ahmedabad</td>\n",
       "      <td>1/4/2015</td>\n",
       "      <td>NaN</td>\n",
       "      <td>NaN</td>\n",
       "      <td>1.70</td>\n",
       "      <td>18.48</td>\n",
       "      <td>17.97</td>\n",
       "      <td>NaN</td>\n",
       "      <td>1.70</td>\n",
       "      <td>18.59</td>\n",
       "      <td>NaN</td>\n",
       "      <td>NaN</td>\n",
       "    </tr>\n",
       "    <tr>\n",
       "      <th>4</th>\n",
       "      <td>Ahmedabad</td>\n",
       "      <td>1/5/2015</td>\n",
       "      <td>NaN</td>\n",
       "      <td>NaN</td>\n",
       "      <td>22.10</td>\n",
       "      <td>21.42</td>\n",
       "      <td>37.76</td>\n",
       "      <td>NaN</td>\n",
       "      <td>22.10</td>\n",
       "      <td>39.33</td>\n",
       "      <td>NaN</td>\n",
       "      <td>NaN</td>\n",
       "    </tr>\n",
       "  </tbody>\n",
       "</table>\n",
       "</div>"
      ],
      "text/plain": [
       "        City      Date  PM2.5  PM10     NO    NO2    NOx  NH3     CO    SO2  \\\n",
       "0  Ahmedabad  1/1/2015    NaN   NaN   0.92  18.22  17.15  NaN   0.92  27.64   \n",
       "1  Ahmedabad  1/2/2015    NaN   NaN   0.97  15.69  16.46  NaN   0.97  24.55   \n",
       "2  Ahmedabad  1/3/2015    NaN   NaN  17.40  19.30  29.70  NaN  17.40  29.07   \n",
       "3  Ahmedabad  1/4/2015    NaN   NaN   1.70  18.48  17.97  NaN   1.70  18.59   \n",
       "4  Ahmedabad  1/5/2015    NaN   NaN  22.10  21.42  37.76  NaN  22.10  39.33   \n",
       "\n",
       "   AQI AQI_Bucket  \n",
       "0  NaN        NaN  \n",
       "1  NaN        NaN  \n",
       "2  NaN        NaN  \n",
       "3  NaN        NaN  \n",
       "4  NaN        NaN  "
      ]
     },
     "execution_count": 3,
     "metadata": {},
     "output_type": "execute_result"
    }
   ],
   "source": [
    "df.head()"
   ]
  },
  {
   "cell_type": "markdown",
   "metadata": {
    "id": "Ma7RsMy5LkE5"
   },
   "source": []
  },
  {
   "cell_type": "code",
   "execution_count": 4,
   "metadata": {
    "colab": {
     "base_uri": "https://localhost:8080/"
    },
    "id": "iMy83PQLXpln",
    "outputId": "98100c9f-b5ef-4fbf-cf6e-ab38d5e99073"
   },
   "outputs": [
    {
     "data": {
      "text/plain": [
       "(29531, 12)"
      ]
     },
     "execution_count": 4,
     "metadata": {},
     "output_type": "execute_result"
    }
   ],
   "source": [
    "df.shape"
   ]
  },
  {
   "cell_type": "code",
   "execution_count": 5,
   "metadata": {
    "colab": {
     "base_uri": "https://localhost:8080/",
     "height": 206
    },
    "id": "2S6mKhSpZkVJ",
    "outputId": "9f74ed58-01f9-46f4-ee0e-182185fedfcc"
   },
   "outputs": [
    {
     "data": {
      "text/html": [
       "<div>\n",
       "<style scoped>\n",
       "    .dataframe tbody tr th:only-of-type {\n",
       "        vertical-align: middle;\n",
       "    }\n",
       "\n",
       "    .dataframe tbody tr th {\n",
       "        vertical-align: top;\n",
       "    }\n",
       "\n",
       "    .dataframe thead th {\n",
       "        text-align: right;\n",
       "    }\n",
       "</style>\n",
       "<table border=\"1\" class=\"dataframe\">\n",
       "  <thead>\n",
       "    <tr style=\"text-align: right;\">\n",
       "      <th></th>\n",
       "      <th>City</th>\n",
       "      <th>Date</th>\n",
       "      <th>PM2.5</th>\n",
       "      <th>PM10</th>\n",
       "      <th>NO</th>\n",
       "      <th>NO2</th>\n",
       "      <th>NOx</th>\n",
       "      <th>NH3</th>\n",
       "      <th>CO</th>\n",
       "      <th>SO2</th>\n",
       "      <th>AQI</th>\n",
       "      <th>AQI_Bucket</th>\n",
       "    </tr>\n",
       "  </thead>\n",
       "  <tbody>\n",
       "    <tr>\n",
       "      <th>29526</th>\n",
       "      <td>Visakhapatnam</td>\n",
       "      <td>6/27/2020</td>\n",
       "      <td>15.02</td>\n",
       "      <td>50.94</td>\n",
       "      <td>7.68</td>\n",
       "      <td>25.06</td>\n",
       "      <td>19.54</td>\n",
       "      <td>12.47</td>\n",
       "      <td>0.47</td>\n",
       "      <td>8.55</td>\n",
       "      <td>41.0</td>\n",
       "      <td>Good</td>\n",
       "    </tr>\n",
       "    <tr>\n",
       "      <th>29527</th>\n",
       "      <td>Visakhapatnam</td>\n",
       "      <td>6/28/2020</td>\n",
       "      <td>24.38</td>\n",
       "      <td>74.09</td>\n",
       "      <td>3.42</td>\n",
       "      <td>26.06</td>\n",
       "      <td>16.53</td>\n",
       "      <td>11.99</td>\n",
       "      <td>0.52</td>\n",
       "      <td>12.72</td>\n",
       "      <td>70.0</td>\n",
       "      <td>Satisfactory</td>\n",
       "    </tr>\n",
       "    <tr>\n",
       "      <th>29528</th>\n",
       "      <td>Visakhapatnam</td>\n",
       "      <td>6/29/2020</td>\n",
       "      <td>22.91</td>\n",
       "      <td>65.73</td>\n",
       "      <td>3.45</td>\n",
       "      <td>29.53</td>\n",
       "      <td>18.33</td>\n",
       "      <td>10.71</td>\n",
       "      <td>0.48</td>\n",
       "      <td>8.42</td>\n",
       "      <td>68.0</td>\n",
       "      <td>Satisfactory</td>\n",
       "    </tr>\n",
       "    <tr>\n",
       "      <th>29529</th>\n",
       "      <td>Visakhapatnam</td>\n",
       "      <td>6/30/2020</td>\n",
       "      <td>16.64</td>\n",
       "      <td>49.97</td>\n",
       "      <td>4.05</td>\n",
       "      <td>29.26</td>\n",
       "      <td>18.80</td>\n",
       "      <td>10.03</td>\n",
       "      <td>0.52</td>\n",
       "      <td>9.84</td>\n",
       "      <td>54.0</td>\n",
       "      <td>Satisfactory</td>\n",
       "    </tr>\n",
       "    <tr>\n",
       "      <th>29530</th>\n",
       "      <td>Visakhapatnam</td>\n",
       "      <td>7/1/2020</td>\n",
       "      <td>15.00</td>\n",
       "      <td>66.00</td>\n",
       "      <td>0.40</td>\n",
       "      <td>26.85</td>\n",
       "      <td>14.05</td>\n",
       "      <td>5.20</td>\n",
       "      <td>0.59</td>\n",
       "      <td>2.10</td>\n",
       "      <td>50.0</td>\n",
       "      <td>Good</td>\n",
       "    </tr>\n",
       "  </tbody>\n",
       "</table>\n",
       "</div>"
      ],
      "text/plain": [
       "                City       Date  PM2.5   PM10    NO    NO2    NOx    NH3  \\\n",
       "29526  Visakhapatnam  6/27/2020  15.02  50.94  7.68  25.06  19.54  12.47   \n",
       "29527  Visakhapatnam  6/28/2020  24.38  74.09  3.42  26.06  16.53  11.99   \n",
       "29528  Visakhapatnam  6/29/2020  22.91  65.73  3.45  29.53  18.33  10.71   \n",
       "29529  Visakhapatnam  6/30/2020  16.64  49.97  4.05  29.26  18.80  10.03   \n",
       "29530  Visakhapatnam   7/1/2020  15.00  66.00  0.40  26.85  14.05   5.20   \n",
       "\n",
       "         CO    SO2   AQI    AQI_Bucket  \n",
       "29526  0.47   8.55  41.0          Good  \n",
       "29527  0.52  12.72  70.0  Satisfactory  \n",
       "29528  0.48   8.42  68.0  Satisfactory  \n",
       "29529  0.52   9.84  54.0  Satisfactory  \n",
       "29530  0.59   2.10  50.0          Good  "
      ]
     },
     "execution_count": 5,
     "metadata": {},
     "output_type": "execute_result"
    }
   ],
   "source": [
    "df.tail()"
   ]
  },
  {
   "cell_type": "code",
   "execution_count": 6,
   "metadata": {
    "colab": {
     "base_uri": "https://localhost:8080/",
     "height": 300
    },
    "id": "XcQuhzwMNf02",
    "outputId": "d1126acd-4c1d-4004-c5b3-2b3ac07bd11d"
   },
   "outputs": [
    {
     "data": {
      "text/html": [
       "<div>\n",
       "<style scoped>\n",
       "    .dataframe tbody tr th:only-of-type {\n",
       "        vertical-align: middle;\n",
       "    }\n",
       "\n",
       "    .dataframe tbody tr th {\n",
       "        vertical-align: top;\n",
       "    }\n",
       "\n",
       "    .dataframe thead th {\n",
       "        text-align: right;\n",
       "    }\n",
       "</style>\n",
       "<table border=\"1\" class=\"dataframe\">\n",
       "  <thead>\n",
       "    <tr style=\"text-align: right;\">\n",
       "      <th></th>\n",
       "      <th>PM2.5</th>\n",
       "      <th>PM10</th>\n",
       "      <th>NO</th>\n",
       "      <th>NO2</th>\n",
       "      <th>NOx</th>\n",
       "      <th>NH3</th>\n",
       "      <th>CO</th>\n",
       "      <th>SO2</th>\n",
       "      <th>AQI</th>\n",
       "    </tr>\n",
       "  </thead>\n",
       "  <tbody>\n",
       "    <tr>\n",
       "      <th>count</th>\n",
       "      <td>24933.000000</td>\n",
       "      <td>18391.000000</td>\n",
       "      <td>25949.000000</td>\n",
       "      <td>25946.000000</td>\n",
       "      <td>25346.000000</td>\n",
       "      <td>19203.000000</td>\n",
       "      <td>27472.000000</td>\n",
       "      <td>25677.000000</td>\n",
       "      <td>24850.000000</td>\n",
       "    </tr>\n",
       "    <tr>\n",
       "      <th>mean</th>\n",
       "      <td>67.450578</td>\n",
       "      <td>118.127103</td>\n",
       "      <td>17.574730</td>\n",
       "      <td>28.560659</td>\n",
       "      <td>32.309123</td>\n",
       "      <td>23.483476</td>\n",
       "      <td>2.248598</td>\n",
       "      <td>14.531977</td>\n",
       "      <td>166.463581</td>\n",
       "    </tr>\n",
       "    <tr>\n",
       "      <th>std</th>\n",
       "      <td>64.661449</td>\n",
       "      <td>90.605110</td>\n",
       "      <td>22.785846</td>\n",
       "      <td>24.474746</td>\n",
       "      <td>31.646011</td>\n",
       "      <td>25.684275</td>\n",
       "      <td>6.962884</td>\n",
       "      <td>18.133775</td>\n",
       "      <td>140.696585</td>\n",
       "    </tr>\n",
       "    <tr>\n",
       "      <th>min</th>\n",
       "      <td>0.040000</td>\n",
       "      <td>0.010000</td>\n",
       "      <td>0.020000</td>\n",
       "      <td>0.010000</td>\n",
       "      <td>0.000000</td>\n",
       "      <td>0.010000</td>\n",
       "      <td>0.000000</td>\n",
       "      <td>0.010000</td>\n",
       "      <td>13.000000</td>\n",
       "    </tr>\n",
       "    <tr>\n",
       "      <th>25%</th>\n",
       "      <td>28.820000</td>\n",
       "      <td>56.255000</td>\n",
       "      <td>5.630000</td>\n",
       "      <td>11.750000</td>\n",
       "      <td>12.820000</td>\n",
       "      <td>8.580000</td>\n",
       "      <td>0.510000</td>\n",
       "      <td>5.670000</td>\n",
       "      <td>81.000000</td>\n",
       "    </tr>\n",
       "    <tr>\n",
       "      <th>50%</th>\n",
       "      <td>48.570000</td>\n",
       "      <td>95.680000</td>\n",
       "      <td>9.890000</td>\n",
       "      <td>21.690000</td>\n",
       "      <td>23.520000</td>\n",
       "      <td>15.850000</td>\n",
       "      <td>0.890000</td>\n",
       "      <td>9.160000</td>\n",
       "      <td>118.000000</td>\n",
       "    </tr>\n",
       "    <tr>\n",
       "      <th>75%</th>\n",
       "      <td>80.590000</td>\n",
       "      <td>149.745000</td>\n",
       "      <td>19.950000</td>\n",
       "      <td>37.620000</td>\n",
       "      <td>40.127500</td>\n",
       "      <td>30.020000</td>\n",
       "      <td>1.450000</td>\n",
       "      <td>15.220000</td>\n",
       "      <td>208.000000</td>\n",
       "    </tr>\n",
       "    <tr>\n",
       "      <th>max</th>\n",
       "      <td>949.990000</td>\n",
       "      <td>1000.000000</td>\n",
       "      <td>390.680000</td>\n",
       "      <td>362.210000</td>\n",
       "      <td>467.630000</td>\n",
       "      <td>352.890000</td>\n",
       "      <td>175.810000</td>\n",
       "      <td>193.860000</td>\n",
       "      <td>2049.000000</td>\n",
       "    </tr>\n",
       "  </tbody>\n",
       "</table>\n",
       "</div>"
      ],
      "text/plain": [
       "              PM2.5          PM10            NO           NO2           NOx  \\\n",
       "count  24933.000000  18391.000000  25949.000000  25946.000000  25346.000000   \n",
       "mean      67.450578    118.127103     17.574730     28.560659     32.309123   \n",
       "std       64.661449     90.605110     22.785846     24.474746     31.646011   \n",
       "min        0.040000      0.010000      0.020000      0.010000      0.000000   \n",
       "25%       28.820000     56.255000      5.630000     11.750000     12.820000   \n",
       "50%       48.570000     95.680000      9.890000     21.690000     23.520000   \n",
       "75%       80.590000    149.745000     19.950000     37.620000     40.127500   \n",
       "max      949.990000   1000.000000    390.680000    362.210000    467.630000   \n",
       "\n",
       "                NH3            CO           SO2           AQI  \n",
       "count  19203.000000  27472.000000  25677.000000  24850.000000  \n",
       "mean      23.483476      2.248598     14.531977    166.463581  \n",
       "std       25.684275      6.962884     18.133775    140.696585  \n",
       "min        0.010000      0.000000      0.010000     13.000000  \n",
       "25%        8.580000      0.510000      5.670000     81.000000  \n",
       "50%       15.850000      0.890000      9.160000    118.000000  \n",
       "75%       30.020000      1.450000     15.220000    208.000000  \n",
       "max      352.890000    175.810000    193.860000   2049.000000  "
      ]
     },
     "execution_count": 6,
     "metadata": {},
     "output_type": "execute_result"
    }
   ],
   "source": [
    "df.describe()"
   ]
  },
  {
   "cell_type": "code",
   "execution_count": 7,
   "metadata": {
    "colab": {
     "base_uri": "https://localhost:8080/"
    },
    "id": "m1iGmmX9NgFX",
    "outputId": "77dd3af7-2d46-4ed4-909d-548403135a9c"
   },
   "outputs": [
    {
     "name": "stdout",
     "output_type": "stream",
     "text": [
      "<class 'pandas.core.frame.DataFrame'>\n",
      "RangeIndex: 29531 entries, 0 to 29530\n",
      "Data columns (total 12 columns):\n",
      " #   Column      Non-Null Count  Dtype  \n",
      "---  ------      --------------  -----  \n",
      " 0   City        29531 non-null  object \n",
      " 1   Date        29531 non-null  object \n",
      " 2   PM2.5       24933 non-null  float64\n",
      " 3   PM10        18391 non-null  float64\n",
      " 4   NO          25949 non-null  float64\n",
      " 5   NO2         25946 non-null  float64\n",
      " 6   NOx         25346 non-null  float64\n",
      " 7   NH3         19203 non-null  float64\n",
      " 8   CO          27472 non-null  float64\n",
      " 9   SO2         25677 non-null  float64\n",
      " 10  AQI         24850 non-null  float64\n",
      " 11  AQI_Bucket  24850 non-null  object \n",
      "dtypes: float64(9), object(3)\n",
      "memory usage: 2.7+ MB\n"
     ]
    }
   ],
   "source": [
    "df.info()"
   ]
  },
  {
   "cell_type": "code",
   "execution_count": 8,
   "metadata": {
    "colab": {
     "base_uri": "https://localhost:8080/"
    },
    "id": "2l8UN8Nn8IL_",
    "outputId": "fd1fb452-c1dd-4f13-b9e8-a30fabde0059"
   },
   "outputs": [
    {
     "name": "stdout",
     "output_type": "stream",
     "text": [
      "The overall missing percentage in the DataFrame is: 14.87%\n"
     ]
    }
   ],
   "source": [
    "missing_percentage = (df.isna().sum().sum() / (df.shape[0] * df.shape[1])) * 100\n",
    "print(f\"The overall missing percentage in the DataFrame is: {missing_percentage:.2f}%\")"
   ]
  },
  {
   "cell_type": "markdown",
   "metadata": {
    "id": "azfOgM-0Uk33"
   },
   "source": [
    "**THEREFORE THERE ARE NULL VALUES IN MANY COLUMNS\n",
    " WE HAVE TO REMOVE IN DATA CLEANING**"
   ]
  },
  {
   "cell_type": "code",
   "execution_count": 9,
   "metadata": {
    "colab": {
     "base_uri": "https://localhost:8080/"
    },
    "id": "v0SikU-28JaA",
    "outputId": "49a68a97-b8ab-4382-8a90-6ed6369bda42"
   },
   "outputs": [
    {
     "data": {
      "text/plain": [
       "array([nan, 'Poor', 'Very Poor', 'Severe', 'Moderate', 'Satisfactory',\n",
       "       'Good'], dtype=object)"
      ]
     },
     "execution_count": 9,
     "metadata": {},
     "output_type": "execute_result"
    }
   ],
   "source": [
    "df[\"AQI_Bucket\"].unique()"
   ]
  },
  {
   "cell_type": "code",
   "execution_count": 10,
   "metadata": {
    "colab": {
     "base_uri": "https://localhost:8080/"
    },
    "id": "sbgbd3vxFron",
    "outputId": "000614dc-bf55-4a61-808a-c20025c05aa1"
   },
   "outputs": [
    {
     "data": {
      "text/plain": [
       "AQI_Bucket\n",
       "Moderate        8829\n",
       "Satisfactory    8224\n",
       "Poor            2781\n",
       "Very Poor       2337\n",
       "Good            1341\n",
       "Severe          1338\n",
       "Name: count, dtype: int64"
      ]
     },
     "execution_count": 10,
     "metadata": {},
     "output_type": "execute_result"
    }
   ],
   "source": [
    "df[\"AQI_Bucket\"].value_counts()"
   ]
  },
  {
   "cell_type": "markdown",
   "metadata": {
    "id": "HQLEDZn_Gd6g"
   },
   "source": [
    "\n",
    "\n",
    "```\n",
    "# This is formatted as code\n",
    "```\n",
    "\n",
    "**SINCE MODERATE VALUE in AQI_Bucket col is max so replace all the NAN values with the MODERATE**"
   ]
  },
  {
   "cell_type": "code",
   "execution_count": 11,
   "metadata": {
    "id": "AAHQ4kO9Gw71"
   },
   "outputs": [],
   "source": [
    "df['AQI_Bucket']=df['AQI_Bucket'].fillna('Moderate')"
   ]
  },
  {
   "cell_type": "code",
   "execution_count": 12,
   "metadata": {
    "colab": {
     "base_uri": "https://localhost:8080/",
     "height": 206
    },
    "id": "I1usrm64HmZH",
    "outputId": "e62379ba-e258-4e72-fb12-1087bbb5272c"
   },
   "outputs": [
    {
     "data": {
      "text/html": [
       "<div>\n",
       "<style scoped>\n",
       "    .dataframe tbody tr th:only-of-type {\n",
       "        vertical-align: middle;\n",
       "    }\n",
       "\n",
       "    .dataframe tbody tr th {\n",
       "        vertical-align: top;\n",
       "    }\n",
       "\n",
       "    .dataframe thead th {\n",
       "        text-align: right;\n",
       "    }\n",
       "</style>\n",
       "<table border=\"1\" class=\"dataframe\">\n",
       "  <thead>\n",
       "    <tr style=\"text-align: right;\">\n",
       "      <th></th>\n",
       "      <th>City</th>\n",
       "      <th>Date</th>\n",
       "      <th>PM2.5</th>\n",
       "      <th>PM10</th>\n",
       "      <th>NO</th>\n",
       "      <th>NO2</th>\n",
       "      <th>NOx</th>\n",
       "      <th>NH3</th>\n",
       "      <th>CO</th>\n",
       "      <th>SO2</th>\n",
       "      <th>AQI</th>\n",
       "      <th>AQI_Bucket</th>\n",
       "    </tr>\n",
       "  </thead>\n",
       "  <tbody>\n",
       "    <tr>\n",
       "      <th>0</th>\n",
       "      <td>Ahmedabad</td>\n",
       "      <td>1/1/2015</td>\n",
       "      <td>NaN</td>\n",
       "      <td>NaN</td>\n",
       "      <td>0.92</td>\n",
       "      <td>18.22</td>\n",
       "      <td>17.15</td>\n",
       "      <td>NaN</td>\n",
       "      <td>0.92</td>\n",
       "      <td>27.64</td>\n",
       "      <td>NaN</td>\n",
       "      <td>Moderate</td>\n",
       "    </tr>\n",
       "    <tr>\n",
       "      <th>1</th>\n",
       "      <td>Ahmedabad</td>\n",
       "      <td>1/2/2015</td>\n",
       "      <td>NaN</td>\n",
       "      <td>NaN</td>\n",
       "      <td>0.97</td>\n",
       "      <td>15.69</td>\n",
       "      <td>16.46</td>\n",
       "      <td>NaN</td>\n",
       "      <td>0.97</td>\n",
       "      <td>24.55</td>\n",
       "      <td>NaN</td>\n",
       "      <td>Moderate</td>\n",
       "    </tr>\n",
       "    <tr>\n",
       "      <th>2</th>\n",
       "      <td>Ahmedabad</td>\n",
       "      <td>1/3/2015</td>\n",
       "      <td>NaN</td>\n",
       "      <td>NaN</td>\n",
       "      <td>17.40</td>\n",
       "      <td>19.30</td>\n",
       "      <td>29.70</td>\n",
       "      <td>NaN</td>\n",
       "      <td>17.40</td>\n",
       "      <td>29.07</td>\n",
       "      <td>NaN</td>\n",
       "      <td>Moderate</td>\n",
       "    </tr>\n",
       "    <tr>\n",
       "      <th>3</th>\n",
       "      <td>Ahmedabad</td>\n",
       "      <td>1/4/2015</td>\n",
       "      <td>NaN</td>\n",
       "      <td>NaN</td>\n",
       "      <td>1.70</td>\n",
       "      <td>18.48</td>\n",
       "      <td>17.97</td>\n",
       "      <td>NaN</td>\n",
       "      <td>1.70</td>\n",
       "      <td>18.59</td>\n",
       "      <td>NaN</td>\n",
       "      <td>Moderate</td>\n",
       "    </tr>\n",
       "    <tr>\n",
       "      <th>4</th>\n",
       "      <td>Ahmedabad</td>\n",
       "      <td>1/5/2015</td>\n",
       "      <td>NaN</td>\n",
       "      <td>NaN</td>\n",
       "      <td>22.10</td>\n",
       "      <td>21.42</td>\n",
       "      <td>37.76</td>\n",
       "      <td>NaN</td>\n",
       "      <td>22.10</td>\n",
       "      <td>39.33</td>\n",
       "      <td>NaN</td>\n",
       "      <td>Moderate</td>\n",
       "    </tr>\n",
       "  </tbody>\n",
       "</table>\n",
       "</div>"
      ],
      "text/plain": [
       "        City      Date  PM2.5  PM10     NO    NO2    NOx  NH3     CO    SO2  \\\n",
       "0  Ahmedabad  1/1/2015    NaN   NaN   0.92  18.22  17.15  NaN   0.92  27.64   \n",
       "1  Ahmedabad  1/2/2015    NaN   NaN   0.97  15.69  16.46  NaN   0.97  24.55   \n",
       "2  Ahmedabad  1/3/2015    NaN   NaN  17.40  19.30  29.70  NaN  17.40  29.07   \n",
       "3  Ahmedabad  1/4/2015    NaN   NaN   1.70  18.48  17.97  NaN   1.70  18.59   \n",
       "4  Ahmedabad  1/5/2015    NaN   NaN  22.10  21.42  37.76  NaN  22.10  39.33   \n",
       "\n",
       "   AQI AQI_Bucket  \n",
       "0  NaN   Moderate  \n",
       "1  NaN   Moderate  \n",
       "2  NaN   Moderate  \n",
       "3  NaN   Moderate  \n",
       "4  NaN   Moderate  "
      ]
     },
     "execution_count": 12,
     "metadata": {},
     "output_type": "execute_result"
    }
   ],
   "source": [
    "df.head()"
   ]
  },
  {
   "cell_type": "code",
   "execution_count": 13,
   "metadata": {
    "colab": {
     "base_uri": "https://localhost:8080/"
    },
    "id": "_mBFq4x_tBwI",
    "outputId": "31762597-fe5b-4181-b5eb-7e9d834218f5"
   },
   "outputs": [
    {
     "data": {
      "text/plain": [
       "Index(['PM2.5', 'PM10', 'NO', 'NO2', 'NOx', 'NH3', 'CO', 'SO2', 'AQI'], dtype='object')"
      ]
     },
     "execution_count": 13,
     "metadata": {},
     "output_type": "execute_result"
    }
   ],
   "source": [
    "numeric=df.select_dtypes(include=[float]).columns\n",
    "numeric"
   ]
  },
  {
   "cell_type": "code",
   "execution_count": 14,
   "metadata": {
    "colab": {
     "base_uri": "https://localhost:8080/"
    },
    "id": "QIhfKQRCJ9ZK",
    "outputId": "a3ad47a3-3f95-4001-a0b6-b7a44601bcff"
   },
   "outputs": [
    {
     "data": {
      "text/plain": [
       "City              0\n",
       "Date              0\n",
       "PM2.5          4598\n",
       "PM10          11140\n",
       "NO             3582\n",
       "NO2            3585\n",
       "NOx            4185\n",
       "NH3           10328\n",
       "CO             2059\n",
       "SO2            3854\n",
       "AQI            4681\n",
       "AQI_Bucket        0\n",
       "dtype: int64"
      ]
     },
     "execution_count": 14,
     "metadata": {},
     "output_type": "execute_result"
    }
   ],
   "source": [
    "df.isna().sum()"
   ]
  },
  {
   "cell_type": "markdown",
   "metadata": {
    "id": "LEQuSlKdKEnM"
   },
   "source": [
    "**replacing all Nan values from numerical columns with median**"
   ]
  },
  {
   "cell_type": "code",
   "execution_count": 15,
   "metadata": {
    "id": "14BAqEDktTkQ"
   },
   "outputs": [],
   "source": [
    "for column in numeric:\n",
    "  df[column]=df[column].fillna((df[column].median()))"
   ]
  },
  {
   "cell_type": "code",
   "execution_count": 16,
   "metadata": {
    "colab": {
     "base_uri": "https://localhost:8080/"
    },
    "id": "SShm0XKLKRis",
    "outputId": "8bff75c3-4337-4451-c3cf-6004f6024cb4"
   },
   "outputs": [
    {
     "data": {
      "text/plain": [
       "Index(['City', 'Date', 'AQI_Bucket'], dtype='object')"
      ]
     },
     "execution_count": 16,
     "metadata": {},
     "output_type": "execute_result"
    }
   ],
   "source": [
    "cat_data=df.select_dtypes(include=[object])\n",
    "cat_data.columns"
   ]
  },
  {
   "cell_type": "code",
   "execution_count": 17,
   "metadata": {
    "colab": {
     "base_uri": "https://localhost:8080/",
     "height": 206
    },
    "id": "DpXKhaKZMU2Y",
    "outputId": "0cb21892-6052-4fed-843c-7db4cfa53db0"
   },
   "outputs": [
    {
     "data": {
      "text/html": [
       "<div>\n",
       "<style scoped>\n",
       "    .dataframe tbody tr th:only-of-type {\n",
       "        vertical-align: middle;\n",
       "    }\n",
       "\n",
       "    .dataframe tbody tr th {\n",
       "        vertical-align: top;\n",
       "    }\n",
       "\n",
       "    .dataframe thead th {\n",
       "        text-align: right;\n",
       "    }\n",
       "</style>\n",
       "<table border=\"1\" class=\"dataframe\">\n",
       "  <thead>\n",
       "    <tr style=\"text-align: right;\">\n",
       "      <th></th>\n",
       "      <th>City</th>\n",
       "      <th>Date</th>\n",
       "      <th>PM2.5</th>\n",
       "      <th>PM10</th>\n",
       "      <th>NO</th>\n",
       "      <th>NO2</th>\n",
       "      <th>NOx</th>\n",
       "      <th>NH3</th>\n",
       "      <th>CO</th>\n",
       "      <th>SO2</th>\n",
       "      <th>AQI</th>\n",
       "      <th>AQI_Bucket</th>\n",
       "    </tr>\n",
       "  </thead>\n",
       "  <tbody>\n",
       "    <tr>\n",
       "      <th>0</th>\n",
       "      <td>Ahmedabad</td>\n",
       "      <td>1/1/2015</td>\n",
       "      <td>48.57</td>\n",
       "      <td>95.68</td>\n",
       "      <td>0.92</td>\n",
       "      <td>18.22</td>\n",
       "      <td>17.15</td>\n",
       "      <td>15.85</td>\n",
       "      <td>0.92</td>\n",
       "      <td>27.64</td>\n",
       "      <td>118.0</td>\n",
       "      <td>Moderate</td>\n",
       "    </tr>\n",
       "    <tr>\n",
       "      <th>1</th>\n",
       "      <td>Ahmedabad</td>\n",
       "      <td>1/2/2015</td>\n",
       "      <td>48.57</td>\n",
       "      <td>95.68</td>\n",
       "      <td>0.97</td>\n",
       "      <td>15.69</td>\n",
       "      <td>16.46</td>\n",
       "      <td>15.85</td>\n",
       "      <td>0.97</td>\n",
       "      <td>24.55</td>\n",
       "      <td>118.0</td>\n",
       "      <td>Moderate</td>\n",
       "    </tr>\n",
       "    <tr>\n",
       "      <th>2</th>\n",
       "      <td>Ahmedabad</td>\n",
       "      <td>1/3/2015</td>\n",
       "      <td>48.57</td>\n",
       "      <td>95.68</td>\n",
       "      <td>17.40</td>\n",
       "      <td>19.30</td>\n",
       "      <td>29.70</td>\n",
       "      <td>15.85</td>\n",
       "      <td>17.40</td>\n",
       "      <td>29.07</td>\n",
       "      <td>118.0</td>\n",
       "      <td>Moderate</td>\n",
       "    </tr>\n",
       "    <tr>\n",
       "      <th>3</th>\n",
       "      <td>Ahmedabad</td>\n",
       "      <td>1/4/2015</td>\n",
       "      <td>48.57</td>\n",
       "      <td>95.68</td>\n",
       "      <td>1.70</td>\n",
       "      <td>18.48</td>\n",
       "      <td>17.97</td>\n",
       "      <td>15.85</td>\n",
       "      <td>1.70</td>\n",
       "      <td>18.59</td>\n",
       "      <td>118.0</td>\n",
       "      <td>Moderate</td>\n",
       "    </tr>\n",
       "    <tr>\n",
       "      <th>4</th>\n",
       "      <td>Ahmedabad</td>\n",
       "      <td>1/5/2015</td>\n",
       "      <td>48.57</td>\n",
       "      <td>95.68</td>\n",
       "      <td>22.10</td>\n",
       "      <td>21.42</td>\n",
       "      <td>37.76</td>\n",
       "      <td>15.85</td>\n",
       "      <td>22.10</td>\n",
       "      <td>39.33</td>\n",
       "      <td>118.0</td>\n",
       "      <td>Moderate</td>\n",
       "    </tr>\n",
       "  </tbody>\n",
       "</table>\n",
       "</div>"
      ],
      "text/plain": [
       "        City      Date  PM2.5   PM10     NO    NO2    NOx    NH3     CO  \\\n",
       "0  Ahmedabad  1/1/2015  48.57  95.68   0.92  18.22  17.15  15.85   0.92   \n",
       "1  Ahmedabad  1/2/2015  48.57  95.68   0.97  15.69  16.46  15.85   0.97   \n",
       "2  Ahmedabad  1/3/2015  48.57  95.68  17.40  19.30  29.70  15.85  17.40   \n",
       "3  Ahmedabad  1/4/2015  48.57  95.68   1.70  18.48  17.97  15.85   1.70   \n",
       "4  Ahmedabad  1/5/2015  48.57  95.68  22.10  21.42  37.76  15.85  22.10   \n",
       "\n",
       "     SO2    AQI AQI_Bucket  \n",
       "0  27.64  118.0   Moderate  \n",
       "1  24.55  118.0   Moderate  \n",
       "2  29.07  118.0   Moderate  \n",
       "3  18.59  118.0   Moderate  \n",
       "4  39.33  118.0   Moderate  "
      ]
     },
     "execution_count": 17,
     "metadata": {},
     "output_type": "execute_result"
    }
   ],
   "source": [
    "df.head()"
   ]
  },
  {
   "cell_type": "code",
   "execution_count": 18,
   "metadata": {
    "colab": {
     "base_uri": "https://localhost:8080/"
    },
    "id": "jwljZ3E9KDsf",
    "outputId": "429fa049-ac27-4902-e701-a182b6dfef1f"
   },
   "outputs": [
    {
     "data": {
      "text/plain": [
       "City          0\n",
       "Date          0\n",
       "PM2.5         0\n",
       "PM10          0\n",
       "NO            0\n",
       "NO2           0\n",
       "NOx           0\n",
       "NH3           0\n",
       "CO            0\n",
       "SO2           0\n",
       "AQI           0\n",
       "AQI_Bucket    0\n",
       "dtype: int64"
      ]
     },
     "execution_count": 18,
     "metadata": {},
     "output_type": "execute_result"
    }
   ],
   "source": [
    "df.isna().sum()"
   ]
  },
  {
   "cell_type": "markdown",
   "metadata": {
    "id": "YTMgAwK3NM8q"
   },
   "source": [
    "**therefore all missing values are filled **"
   ]
  },
  {
   "cell_type": "markdown",
   "metadata": {
    "id": "4WrZNwlzXC8C"
   },
   "source": [
    "**EXAMINING THE NUMERICAL AND CATEGORICAL COLUMNS**"
   ]
  },
  {
   "cell_type": "markdown",
   "metadata": {
    "id": "yZwhXmURW-uI"
   },
   "source": [
    "**visualizing correlation between numerical variables**"
   ]
  },
  {
   "cell_type": "code",
   "execution_count": 19,
   "metadata": {
    "colab": {
     "base_uri": "https://localhost:8080/",
     "height": 789
    },
    "id": "pSNgq8Um8vPp",
    "outputId": "7e74d85b-0624-4d8d-9f3f-80ab7ffeb6d4"
   },
   "outputs": [
    {
     "ename": "ValueError",
     "evalue": "could not convert string to float: 'Ahmedabad'",
     "output_type": "error",
     "traceback": [
      "\u001b[1;31m---------------------------------------------------------------------------\u001b[0m",
      "\u001b[1;31mValueError\u001b[0m                                Traceback (most recent call last)",
      "Cell \u001b[1;32mIn[19], line 2\u001b[0m\n\u001b[0;32m      1\u001b[0m plt\u001b[38;5;241m.\u001b[39mfigure(figsize\u001b[38;5;241m=\u001b[39m(\u001b[38;5;241m10\u001b[39m,\u001b[38;5;241m8\u001b[39m))\n\u001b[1;32m----> 2\u001b[0m \u001b[43mdf\u001b[49m\u001b[38;5;241;43m.\u001b[39;49m\u001b[43mcorr\u001b[49m\u001b[43m(\u001b[49m\u001b[43m)\u001b[49m\n\u001b[0;32m      3\u001b[0m sns\u001b[38;5;241m.\u001b[39mheatmap(df\u001b[38;5;241m.\u001b[39mcorr(),annot\u001b[38;5;241m=\u001b[39m\u001b[38;5;28;01mTrue\u001b[39;00m)\n",
      "File \u001b[1;32m~\\AppData\\Local\\Programs\\Python\\Python311\\Lib\\site-packages\\pandas\\core\\frame.py:10054\u001b[0m, in \u001b[0;36mDataFrame.corr\u001b[1;34m(self, method, min_periods, numeric_only)\u001b[0m\n\u001b[0;32m  10052\u001b[0m cols \u001b[38;5;241m=\u001b[39m data\u001b[38;5;241m.\u001b[39mcolumns\n\u001b[0;32m  10053\u001b[0m idx \u001b[38;5;241m=\u001b[39m cols\u001b[38;5;241m.\u001b[39mcopy()\n\u001b[1;32m> 10054\u001b[0m mat \u001b[38;5;241m=\u001b[39m \u001b[43mdata\u001b[49m\u001b[38;5;241;43m.\u001b[39;49m\u001b[43mto_numpy\u001b[49m\u001b[43m(\u001b[49m\u001b[43mdtype\u001b[49m\u001b[38;5;241;43m=\u001b[39;49m\u001b[38;5;28;43mfloat\u001b[39;49m\u001b[43m,\u001b[49m\u001b[43m \u001b[49m\u001b[43mna_value\u001b[49m\u001b[38;5;241;43m=\u001b[39;49m\u001b[43mnp\u001b[49m\u001b[38;5;241;43m.\u001b[39;49m\u001b[43mnan\u001b[49m\u001b[43m,\u001b[49m\u001b[43m \u001b[49m\u001b[43mcopy\u001b[49m\u001b[38;5;241;43m=\u001b[39;49m\u001b[38;5;28;43;01mFalse\u001b[39;49;00m\u001b[43m)\u001b[49m\n\u001b[0;32m  10056\u001b[0m \u001b[38;5;28;01mif\u001b[39;00m method \u001b[38;5;241m==\u001b[39m \u001b[38;5;124m\"\u001b[39m\u001b[38;5;124mpearson\u001b[39m\u001b[38;5;124m\"\u001b[39m:\n\u001b[0;32m  10057\u001b[0m     correl \u001b[38;5;241m=\u001b[39m libalgos\u001b[38;5;241m.\u001b[39mnancorr(mat, minp\u001b[38;5;241m=\u001b[39mmin_periods)\n",
      "File \u001b[1;32m~\\AppData\\Local\\Programs\\Python\\Python311\\Lib\\site-packages\\pandas\\core\\frame.py:1838\u001b[0m, in \u001b[0;36mDataFrame.to_numpy\u001b[1;34m(self, dtype, copy, na_value)\u001b[0m\n\u001b[0;32m   1836\u001b[0m \u001b[38;5;28;01mif\u001b[39;00m dtype \u001b[38;5;129;01mis\u001b[39;00m \u001b[38;5;129;01mnot\u001b[39;00m \u001b[38;5;28;01mNone\u001b[39;00m:\n\u001b[0;32m   1837\u001b[0m     dtype \u001b[38;5;241m=\u001b[39m np\u001b[38;5;241m.\u001b[39mdtype(dtype)\n\u001b[1;32m-> 1838\u001b[0m result \u001b[38;5;241m=\u001b[39m \u001b[38;5;28;43mself\u001b[39;49m\u001b[38;5;241;43m.\u001b[39;49m\u001b[43m_mgr\u001b[49m\u001b[38;5;241;43m.\u001b[39;49m\u001b[43mas_array\u001b[49m\u001b[43m(\u001b[49m\u001b[43mdtype\u001b[49m\u001b[38;5;241;43m=\u001b[39;49m\u001b[43mdtype\u001b[49m\u001b[43m,\u001b[49m\u001b[43m \u001b[49m\u001b[43mcopy\u001b[49m\u001b[38;5;241;43m=\u001b[39;49m\u001b[43mcopy\u001b[49m\u001b[43m,\u001b[49m\u001b[43m \u001b[49m\u001b[43mna_value\u001b[49m\u001b[38;5;241;43m=\u001b[39;49m\u001b[43mna_value\u001b[49m\u001b[43m)\u001b[49m\n\u001b[0;32m   1839\u001b[0m \u001b[38;5;28;01mif\u001b[39;00m result\u001b[38;5;241m.\u001b[39mdtype \u001b[38;5;129;01mis\u001b[39;00m \u001b[38;5;129;01mnot\u001b[39;00m dtype:\n\u001b[0;32m   1840\u001b[0m     result \u001b[38;5;241m=\u001b[39m np\u001b[38;5;241m.\u001b[39marray(result, dtype\u001b[38;5;241m=\u001b[39mdtype, copy\u001b[38;5;241m=\u001b[39m\u001b[38;5;28;01mFalse\u001b[39;00m)\n",
      "File \u001b[1;32m~\\AppData\\Local\\Programs\\Python\\Python311\\Lib\\site-packages\\pandas\\core\\internals\\managers.py:1732\u001b[0m, in \u001b[0;36mBlockManager.as_array\u001b[1;34m(self, dtype, copy, na_value)\u001b[0m\n\u001b[0;32m   1730\u001b[0m         arr\u001b[38;5;241m.\u001b[39mflags\u001b[38;5;241m.\u001b[39mwriteable \u001b[38;5;241m=\u001b[39m \u001b[38;5;28;01mFalse\u001b[39;00m\n\u001b[0;32m   1731\u001b[0m \u001b[38;5;28;01melse\u001b[39;00m:\n\u001b[1;32m-> 1732\u001b[0m     arr \u001b[38;5;241m=\u001b[39m \u001b[38;5;28;43mself\u001b[39;49m\u001b[38;5;241;43m.\u001b[39;49m\u001b[43m_interleave\u001b[49m\u001b[43m(\u001b[49m\u001b[43mdtype\u001b[49m\u001b[38;5;241;43m=\u001b[39;49m\u001b[43mdtype\u001b[49m\u001b[43m,\u001b[49m\u001b[43m \u001b[49m\u001b[43mna_value\u001b[49m\u001b[38;5;241;43m=\u001b[39;49m\u001b[43mna_value\u001b[49m\u001b[43m)\u001b[49m\n\u001b[0;32m   1733\u001b[0m     \u001b[38;5;66;03m# The underlying data was copied within _interleave, so no need\u001b[39;00m\n\u001b[0;32m   1734\u001b[0m     \u001b[38;5;66;03m# to further copy if copy=True or setting na_value\u001b[39;00m\n\u001b[0;32m   1736\u001b[0m \u001b[38;5;28;01mif\u001b[39;00m na_value \u001b[38;5;129;01mis\u001b[39;00m \u001b[38;5;129;01mnot\u001b[39;00m lib\u001b[38;5;241m.\u001b[39mno_default:\n",
      "File \u001b[1;32m~\\AppData\\Local\\Programs\\Python\\Python311\\Lib\\site-packages\\pandas\\core\\internals\\managers.py:1794\u001b[0m, in \u001b[0;36mBlockManager._interleave\u001b[1;34m(self, dtype, na_value)\u001b[0m\n\u001b[0;32m   1792\u001b[0m     \u001b[38;5;28;01melse\u001b[39;00m:\n\u001b[0;32m   1793\u001b[0m         arr \u001b[38;5;241m=\u001b[39m blk\u001b[38;5;241m.\u001b[39mget_values(dtype)\n\u001b[1;32m-> 1794\u001b[0m     \u001b[43mresult\u001b[49m\u001b[43m[\u001b[49m\u001b[43mrl\u001b[49m\u001b[38;5;241;43m.\u001b[39;49m\u001b[43mindexer\u001b[49m\u001b[43m]\u001b[49m \u001b[38;5;241m=\u001b[39m arr\n\u001b[0;32m   1795\u001b[0m     itemmask[rl\u001b[38;5;241m.\u001b[39mindexer] \u001b[38;5;241m=\u001b[39m \u001b[38;5;241m1\u001b[39m\n\u001b[0;32m   1797\u001b[0m \u001b[38;5;28;01mif\u001b[39;00m \u001b[38;5;129;01mnot\u001b[39;00m itemmask\u001b[38;5;241m.\u001b[39mall():\n",
      "\u001b[1;31mValueError\u001b[0m: could not convert string to float: 'Ahmedabad'"
     ]
    },
    {
     "data": {
      "text/plain": [
       "<Figure size 1000x800 with 0 Axes>"
      ]
     },
     "metadata": {},
     "output_type": "display_data"
    }
   ],
   "source": [
    "plt.figure(figsize=(10,8))\n",
    "df.corr()\n",
    "sns.heatmap(df.corr(),annot=True)"
   ]
  },
  {
   "cell_type": "markdown",
   "metadata": {
    "id": "8gemFZjTtkMc"
   },
   "source": [
    "**CHECKING FOR DUPLICATES**"
   ]
  },
  {
   "cell_type": "code",
   "execution_count": null,
   "metadata": {
    "colab": {
     "base_uri": "https://localhost:8080/"
    },
    "id": "Czt9leL0trvY",
    "outputId": "a409bde0-1ca8-48b8-f0c6-a57738a1b3b9"
   },
   "outputs": [],
   "source": [
    "df.duplicated().sum()"
   ]
  },
  {
   "cell_type": "markdown",
   "metadata": {
    "id": "kj3r32UTt3DL"
   },
   "source": [
    "**CONVERTING DATE ATTRITUBUTE TO DATE TIME DATATYPE**"
   ]
  },
  {
   "cell_type": "code",
   "execution_count": null,
   "metadata": {
    "colab": {
     "base_uri": "https://localhost:8080/"
    },
    "id": "7Tj3Rcret_Yo",
    "outputId": "9a80f12d-0b41-488a-e104-55031bf94ea7"
   },
   "outputs": [],
   "source": [
    "df['Date']=pd.to_datetime(df[\"Date\"])\n",
    "df['Date']"
   ]
  },
  {
   "cell_type": "markdown",
   "metadata": {
    "id": "9i_ZS_jDpzXS"
   },
   "source": []
  },
  {
   "cell_type": "markdown",
   "metadata": {
    "id": "DEDKfEr2RFAw"
   },
   "source": [
    "**Detecting And Filtering Out The Outliers Based on Interquartile Bounds**"
   ]
  },
  {
   "cell_type": "code",
   "execution_count": null,
   "metadata": {
    "colab": {
     "base_uri": "https://localhost:8080/",
     "height": 1000
    },
    "id": "fIsY-1tuE0pz",
    "outputId": "5ae87d3c-b633-41d7-ca10-df1aa9f9cdca"
   },
   "outputs": [],
   "source": [
    "plt.figure(figsize=(8, 6))\n",
    "for column in numeric:\n",
    "  plt.figure(figsize=(8, 6))\n",
    "  sns.boxplot(data=df[column])\n",
    "  plt.title(f'Outliers in {column}')\n",
    "  plt.xlabel('Index')\n",
    "  plt.ylabel(column)\n",
    "  plt.show()"
   ]
  },
  {
   "cell_type": "code",
   "execution_count": null,
   "metadata": {
    "id": "AeoEYzeouJ7w"
   },
   "outputs": [],
   "source": [
    "\n",
    "# Iterate over numeric columns and remove outliers\n",
    "for column in numeric:\n",
    "  # Calculate quartiles and IQR\n",
    "  q1 = df[column].quantile(0.25)\n",
    "  q3 = df[column].quantile(0.75)\n",
    "  iqr = q3 - q1\n",
    "\n",
    "  # Define the upper and lower bounds for outliers\n",
    "  upper_bound = q3 + 3 * iqr\n",
    "  lower_bound = q1 - 3 * iqr\n",
    "\n",
    "  # Filter out the outliers\n",
    "  outliers = df[(df[column] < lower_bound) | (df[column] > upper_bound)][column]\n",
    "  if not outliers.empty:\n",
    "    df.loc[outliers.index, column] = np.log(df.loc[outliers.index, column])\n",
    "\n",
    "\n",
    "\n"
   ]
  },
  {
   "cell_type": "code",
   "execution_count": null,
   "metadata": {
    "id": "xFgnXC747f0J"
   },
   "outputs": [],
   "source": []
  },
  {
   "cell_type": "markdown",
   "metadata": {
    "id": "_jvkfszWZoUl"
   },
   "source": []
  },
  {
   "cell_type": "markdown",
   "metadata": {
    "id": "IweZoA6j_LWx"
   },
   "source": []
  },
  {
   "cell_type": "code",
   "execution_count": null,
   "metadata": {
    "colab": {
     "base_uri": "https://localhost:8080/"
    },
    "id": "q8MXcECROGYl",
    "outputId": "a6d5df1a-4a6b-4241-b5fb-1a984eff102d"
   },
   "outputs": [],
   "source": [
    "df.shape"
   ]
  },
  {
   "cell_type": "code",
   "execution_count": null,
   "metadata": {
    "colab": {
     "base_uri": "https://localhost:8080/",
     "height": 206
    },
    "id": "_k_tPekc68N3",
    "outputId": "79852123-965a-45ca-9aaa-fd40ba76e090"
   },
   "outputs": [],
   "source": [
    "df.head()"
   ]
  },
  {
   "cell_type": "code",
   "execution_count": null,
   "metadata": {
    "id": "S8S_yPe_gDyo"
   },
   "outputs": [],
   "source": []
  },
  {
   "cell_type": "markdown",
   "metadata": {
    "id": "-URFSbEh0Fos"
   },
   "source": [
    "**EDA**"
   ]
  },
  {
   "cell_type": "code",
   "execution_count": null,
   "metadata": {
    "colab": {
     "base_uri": "https://localhost:8080/",
     "height": 206
    },
    "id": "RE7rJP220LCV",
    "outputId": "2bff08e5-ce73-4a6b-e91e-87e7650656a4"
   },
   "outputs": [],
   "source": [
    "df.head()"
   ]
  },
  {
   "cell_type": "code",
   "execution_count": null,
   "metadata": {
    "colab": {
     "base_uri": "https://localhost:8080/",
     "height": 496
    },
    "id": "XFMBxELjLWG4",
    "outputId": "31c7e4fd-ff05-429a-fbdd-d54330494269"
   },
   "outputs": [],
   "source": [
    "plt.figure(figsize=(30, 10))\n",
    "plt.xticks(rotation=90)\n",
    "plt.title('PM2.5 Levels by City')\n",
    "sns.barplot(x='City',y='PM2.5',data=df);\n",
    "#PM 2.5 in different cities"
   ]
  },
  {
   "cell_type": "code",
   "execution_count": null,
   "metadata": {
    "id": "s7iMGUJF0KCs"
   },
   "outputs": [],
   "source": []
  },
  {
   "cell_type": "code",
   "execution_count": null,
   "metadata": {
    "colab": {
     "base_uri": "https://localhost:8080/",
     "height": 493
    },
    "id": "HaZWLoTdPt65",
    "outputId": "a6473041-87a6-496b-de18-fa40c5a38650"
   },
   "outputs": [],
   "source": [
    "plt.figure(figsize=(30, 10))\n",
    "plt.xticks(rotation=90)\n",
    "plt.title('NO Levels by City')\n",
    "sns.barplot(x='City',y='NO',data=df);\n",
    "#levels of NO in different cities"
   ]
  },
  {
   "cell_type": "code",
   "execution_count": null,
   "metadata": {
    "colab": {
     "base_uri": "https://localhost:8080/",
     "height": 496
    },
    "id": "1Gxq9a99gGDX",
    "outputId": "e8776234-3f57-496a-f3dd-e4cecb2300dd"
   },
   "outputs": [],
   "source": [
    "plt.figure(figsize=(30, 10))\n",
    "plt.xticks(rotation=90)\n",
    "plt.title('NO2 Levels by City')\n",
    "sns.barplot(x='City',y='NO2',data=df);\n",
    "#levels of Particulate matter NO2 in different cities"
   ]
  },
  {
   "cell_type": "code",
   "execution_count": null,
   "metadata": {
    "colab": {
     "base_uri": "https://localhost:8080/",
     "height": 494
    },
    "id": "f9bqpGdMez4S",
    "outputId": "ff4b566a-a864-40b8-f5f4-ebe051d7ace7"
   },
   "outputs": [],
   "source": [
    "plt.figure(figsize=(30, 10))\n",
    "plt.xticks(rotation=90)\n",
    "plt.title('PM10 Levels by City')\n",
    "sns.barplot(x='City',y='PM10',data=df);\n",
    "#levels of Particulate matter(diameter<=10 micrometer) in different cities\n"
   ]
  },
  {
   "cell_type": "code",
   "execution_count": null,
   "metadata": {
    "colab": {
     "base_uri": "https://localhost:8080/",
     "height": 496
    },
    "id": "G0_sqj0LiEPl",
    "outputId": "c132ceb5-f3b2-477a-cef1-ad700aec5f2d"
   },
   "outputs": [],
   "source": [
    "plt.figure(figsize=(30, 10))\n",
    "plt.xticks(rotation=90)\n",
    "plt.title('NOx Levels by City')\n",
    "sns.barplot(x='City',y='NOx',data=df);"
   ]
  },
  {
   "cell_type": "code",
   "execution_count": null,
   "metadata": {
    "colab": {
     "base_uri": "https://localhost:8080/",
     "height": 495
    },
    "id": "6_lNWBsWiFS0",
    "outputId": "746d6c62-48c6-45c3-aa5a-2d221d6fc887"
   },
   "outputs": [],
   "source": [
    "plt.figure(figsize=(30, 10))\n",
    "plt.xticks(rotation=90)\n",
    "plt.title('CO Levels by City')\n",
    "sns.barplot(x='City',y='CO',data=df);"
   ]
  },
  {
   "cell_type": "code",
   "execution_count": null,
   "metadata": {
    "colab": {
     "base_uri": "https://localhost:8080/",
     "height": 493
    },
    "id": "7jcQ-9JwiFNb",
    "outputId": "85ecfb92-2b85-434c-c76d-641dbbd955e3"
   },
   "outputs": [],
   "source": [
    "plt.figure(figsize=(30, 10))\n",
    "plt.xticks(rotation=90)\n",
    "plt.title('SO2 Levels by City')\n",
    "sns.barplot(x='City',y='SO2',data=df);"
   ]
  },
  {
   "cell_type": "code",
   "execution_count": null,
   "metadata": {
    "colab": {
     "base_uri": "https://localhost:8080/",
     "height": 494
    },
    "id": "gvxphFyK06LC",
    "outputId": "b3361b18-09c1-4bb3-f391-76a9840559a8"
   },
   "outputs": [],
   "source": [
    "plt.figure(figsize=(30, 10))\n",
    "plt.xticks(rotation=90)\n",
    "plt.title('Air Quality Index by City')\n",
    "sns.barplot(x='City',y='AQI',data=df);"
   ]
  },
  {
   "cell_type": "code",
   "execution_count": null,
   "metadata": {
    "colab": {
     "base_uri": "https://localhost:8080/",
     "height": 206
    },
    "id": "EOIF6WZD42fU",
    "outputId": "a73c451b-bf14-45d0-9491-3e4762bb9b69"
   },
   "outputs": [],
   "source": [
    "df.head()"
   ]
  },
  {
   "cell_type": "code",
   "execution_count": null,
   "metadata": {
    "colab": {
     "base_uri": "https://localhost:8080/"
    },
    "id": "A-WjQizr09lp",
    "outputId": "17a4ea9e-67d1-42b4-9dc9-484428ee7487"
   },
   "outputs": [],
   "source": [
    "average_scores = df.groupby('City').mean(numeric_only=True)\n",
    "\n",
    "highest_scores = average_scores.idxmax()\n",
    "lowest_scores = average_scores.idxmin()\n",
    "\n",
    "for pollutant in df.columns[2:10]:\n",
    "    highest_city = highest_scores[pollutant]\n",
    "    lowest_city = lowest_scores[pollutant]\n",
    "    print(f\"For {pollutant}, the city with the highest average score is: {highest_city}\")\n",
    "    print(f\"For {pollutant}, the city with the lowest average score is: {lowest_city}\")\n",
    "    print()\n"
   ]
  },
  {
   "cell_type": "code",
   "execution_count": null,
   "metadata": {
    "colab": {
     "base_uri": "https://localhost:8080/"
    },
    "id": "7CLFBqjh4zvO",
    "outputId": "72314003-15c3-41e3-bec4-337f8a267216"
   },
   "outputs": [],
   "source": [
    "average_scores = df.groupby('City').mean(numeric_only=True)\n",
    "highest_scores = average_scores.idxmax()\n",
    "lowest_scores = average_scores.idxmin()\n",
    "Comparision = pd.DataFrame(columns=['Pollutant', 'Highest Average City', 'Lowest Average City'])\n",
    "\n",
    "for pollutant in df.columns[2:10]:\n",
    "    highest_city = highest_scores[pollutant]\n",
    "    lowest_city = lowest_scores[pollutant]\n",
    "    Comparision = pd.concat([Comparision, pd.DataFrame({\n",
    "        'Pollutant': [pollutant],\n",
    "        'Highest Average City': [highest_city],\n",
    "        'Lowest Average City': [lowest_city]\n",
    "    })], ignore_index=True)\n",
    "\n",
    "print(Comparision)"
   ]
  },
  {
   "cell_type": "code",
   "execution_count": null,
   "metadata": {
    "colab": {
     "base_uri": "https://localhost:8080/",
     "height": 206
    },
    "id": "K5D9pIe36-YS",
    "outputId": "a15fa5d0-5ae2-4ac8-ca6d-e4a5bf17cf15"
   },
   "outputs": [],
   "source": [
    "avg_readings = df.groupby('City').mean(numeric_only=True).reset_index().round(2)\n",
    "avg_readings.head()"
   ]
  },
  {
   "cell_type": "code",
   "execution_count": null,
   "metadata": {
    "colab": {
     "base_uri": "https://localhost:8080/",
     "height": 542
    },
    "id": "AvJfbcq255V1",
    "outputId": "0c0bc975-8d27-4b77-9fe7-c1e0c61f137c"
   },
   "outputs": [],
   "source": [
    "# avg readings for AQI across all cities (pie chart)\n",
    "import plotly as py\n",
    "import plotly.express as px\n",
    "import plotly.graph_objs as go\n",
    "trace13=go.Pie(labels=avg_readings['City'], values=avg_readings['AQI'],\n",
    "             title='Average AQI readings by City')\n",
    "fig=go.Figure(trace13)\n",
    "fig.update_traces(textposition='inside')\n",
    "fig=fig.update_layout(uniformtext_minsize=12, uniformtext_mode='hide')\n",
    "fig.show()"
   ]
  },
  {
   "cell_type": "code",
   "execution_count": null,
   "metadata": {
    "colab": {
     "base_uri": "https://localhost:8080/",
     "height": 542
    },
    "id": "qiHlAO9j7e_f",
    "outputId": "05e320d1-de32-4cf4-bf5f-7e6341f70b3a"
   },
   "outputs": [],
   "source": [
    "trace1=go.Pie(labels=avg_readings['City'], values=avg_readings['PM2.5'].round(2),\n",
    "             title='Average PM2.5 readings by City')\n",
    "fig=go.Figure(trace1)\n",
    "fig.update_traces(textposition='inside')\n",
    "fig=fig.update_layout(uniformtext_minsize=12, uniformtext_mode='hide')\n",
    "fig.show()"
   ]
  },
  {
   "cell_type": "code",
   "execution_count": null,
   "metadata": {
    "colab": {
     "base_uri": "https://localhost:8080/",
     "height": 542
    },
    "id": "0Doiw5Ow8i2s",
    "outputId": "6deecee0-e1b1-4f0b-94fe-bbcb7010e10f"
   },
   "outputs": [],
   "source": [
    "# avg readings for PM10 across all cities (pie chart)\n",
    "trace2=go.Pie(labels=avg_readings['City'], values=avg_readings['PM10'].round(2),\n",
    "             title='Average PM10 readings by City')\n",
    "fig=go.Figure(trace2)\n",
    "fig.update_traces(textposition='inside')\n",
    "fig=fig.update_layout(uniformtext_minsize=12, uniformtext_mode='hide')\n",
    "fig.show()"
   ]
  },
  {
   "cell_type": "markdown",
   "metadata": {
    "id": "SR2ivyGE9ppf"
   },
   "source": [
    "# **Top 10 cities for high average PM 2.5 level.**\n",
    "\n",
    "*Fine particulate matter (PM2.5) is an air pollutant that is a concern for people's health when levels in air are high. PM2.5 are tiny particles in the air that reduce visibility and cause the air to appear hazy when levels are elevated*"
   ]
  },
  {
   "cell_type": "code",
   "execution_count": null,
   "metadata": {
    "colab": {
     "base_uri": "https://localhost:8080/"
    },
    "id": "GFvxDQDm8oG_",
    "outputId": "1da9650e-f9a5-41b1-a575-d59ccec1d44b"
   },
   "outputs": [],
   "source": [
    "pm2_51=df.groupby(\"City\")[\"PM2.5\"].mean().round(2)\n",
    "pm2_51"
   ]
  },
  {
   "cell_type": "code",
   "execution_count": null,
   "metadata": {
    "colab": {
     "base_uri": "https://localhost:8080/"
    },
    "id": "NIjGBhik97g8",
    "outputId": "364697f3-9dda-40db-e6c2-8ed237a95084"
   },
   "outputs": [],
   "source": [
    "#selecting the top 10\n",
    "pm2_51.sort_values(ascending=False).head(10)"
   ]
  },
  {
   "cell_type": "code",
   "execution_count": null,
   "metadata": {
    "colab": {
     "base_uri": "https://localhost:8080/",
     "height": 658
    },
    "id": "KZIXOxpn-CIn",
    "outputId": "b9b9669a-36f0-4a41-a706-3fcd2ce50dd5"
   },
   "outputs": [],
   "source": [
    "top_pm2_5 = pm2_51.sort_values().head(10)\n",
    "top_pm2_5.plot(figsize=(7, 7), kind=\"barh\", title=\"Top 10 PM 2.5 Levels in Different Cities\", xlabel=\"Level\", ylabel=\"City\", grid=True)\n",
    "\n"
   ]
  },
  {
   "cell_type": "markdown",
   "metadata": {
    "id": "kXAb-Vys_BkL"
   },
   "source": [
    "# **Top 10 cities for high average PM 10 level.**\n",
    "Particles are defined by their diameter for air quality regulatory purposes. Those with a diameter of 10 microns or less (PM10) are inhalable into the lungs and can induce adverse health effects"
   ]
  },
  {
   "cell_type": "code",
   "execution_count": null,
   "metadata": {
    "colab": {
     "base_uri": "https://localhost:8080/"
    },
    "id": "-fFZNVcP-MjR",
    "outputId": "c920604e-241d-41d3-99c7-a001f03234c2"
   },
   "outputs": [],
   "source": [
    "pm10=df.groupby(\"City\")[\"PM10\"].mean().round(2)\n",
    "pm10"
   ]
  },
  {
   "cell_type": "code",
   "execution_count": null,
   "metadata": {
    "colab": {
     "base_uri": "https://localhost:8080/"
    },
    "id": "id9if96d_XLT",
    "outputId": "b4d2ac61-d9eb-4c12-a2bd-fe448f1e2d17"
   },
   "outputs": [],
   "source": [
    "pm10.sort_values(ascending=False).head(10)"
   ]
  },
  {
   "cell_type": "code",
   "execution_count": null,
   "metadata": {
    "colab": {
     "base_uri": "https://localhost:8080/",
     "height": 658
    },
    "id": "LuPmQWab_b64",
    "outputId": "61ab36a6-f1fb-4a47-afbc-d97592994c3c"
   },
   "outputs": [],
   "source": [
    "top_pm10 = pm10.sort_values().head(10)\n",
    "top_pm10.plot(figsize=(7, 7), kind=\"barh\", title=\"Top 10 PM10 Levels in Different Cities\", xlabel=\"Level\", ylabel=\"City\", grid=True)"
   ]
  },
  {
   "cell_type": "markdown",
   "metadata": {
    "id": "udcEqVnQAEdt"
   },
   "source": [
    "# **Air Quality Index**"
   ]
  },
  {
   "cell_type": "code",
   "execution_count": null,
   "metadata": {
    "colab": {
     "base_uri": "https://localhost:8080/",
     "height": 206
    },
    "id": "dsOJ3l-0AkUf",
    "outputId": "fe1c3ad9-b0b5-4d44-ad8f-d8162b696cfb"
   },
   "outputs": [],
   "source": [
    "df.head()"
   ]
  },
  {
   "cell_type": "code",
   "execution_count": null,
   "metadata": {
    "colab": {
     "base_uri": "https://localhost:8080/",
     "height": 206
    },
    "id": "BlUlhzb3_kSO",
    "outputId": "9d2b2e46-c1cb-4d46-c5e2-1ca3c16c8fab"
   },
   "outputs": [],
   "source": [
    "df['year'] = pd.to_datetime(df['Date']).dt.year\n",
    "df.head()"
   ]
  },
  {
   "cell_type": "markdown",
   "metadata": {
    "id": "WK2JtW2FB_n0"
   },
   "source": [
    "# Year Wise Data"
   ]
  },
  {
   "cell_type": "code",
   "execution_count": null,
   "metadata": {
    "colab": {
     "base_uri": "https://localhost:8080/",
     "height": 206
    },
    "id": "ZXJYaBTAAJuD",
    "outputId": "ac1f536c-baaf-4662-9e8c-df9f3b90372d"
   },
   "outputs": [],
   "source": [
    "x1 = df[['City','AQI','year']].groupby(['City','year']).median().sort_values(['AQI']).reset_index()\n",
    "x1.head()"
   ]
  },
  {
   "cell_type": "code",
   "execution_count": null,
   "metadata": {
    "colab": {
     "base_uri": "https://localhost:8080/",
     "height": 689
    },
    "id": "reHYLnIKAuq0",
    "outputId": "b8314a62-2444-4ac2-8651-a6a041b21853"
   },
   "outputs": [],
   "source": [
    "plt.figure(figsize=(18,7))\n",
    "sns.set(font_scale=1.5)\n",
    "sns.barplot(x='City', y='AQI', data=x1,hue='year',palette='bright').set(title ='year wise AQI')\n",
    "plt.xticks(rotation=90)\n",
    "plt.show()"
   ]
  },
  {
   "cell_type": "markdown",
   "metadata": {
    "id": "slQERf2tBxzz"
   },
   "source": [
    "The plot shows a huge spike in the AQI for the city of Ahmedabad during the years 2018 & 2019.\n",
    "\n",
    "Majority of this is coming from Power plant exhaust, Road dust and transport."
   ]
  },
  {
   "cell_type": "markdown",
   "metadata": {
    "id": "VHFHIpoQCEIQ"
   },
   "source": [
    "# Monthly Wise Data"
   ]
  },
  {
   "cell_type": "code",
   "execution_count": null,
   "metadata": {
    "colab": {
     "base_uri": "https://localhost:8080/",
     "height": 206
    },
    "id": "lsLWIcBkA4LB",
    "outputId": "5d337435-1939-4f7f-aa95-9485ad3acca0"
   },
   "outputs": [],
   "source": [
    "df['month'] = pd.to_datetime(df['Date']).dt.month\n",
    "x2 = df[['City','AQI','month']].groupby(['City','month']).median().sort_values(['AQI']).reset_index()\n",
    "x2.head()"
   ]
  },
  {
   "cell_type": "code",
   "execution_count": null,
   "metadata": {
    "colab": {
     "base_uri": "https://localhost:8080/",
     "height": 867
    },
    "id": "v69CNznfCTTM",
    "outputId": "5b08783b-89ba-4513-82b4-4af48d154294"
   },
   "outputs": [],
   "source": [
    "plt.figure(figsize=(18,10))\n",
    "sns.set(font_scale=1.5)\n",
    "sns.barplot(x='City', y='AQI', data=x2,hue='month',palette = 'bright').set(title ='Month wise AQI')\n",
    "plt.xticks(rotation=90)\n",
    "plt.show()"
   ]
  },
  {
   "cell_type": "markdown",
   "metadata": {
    "id": "Wbvu24KDCkks"
   },
   "source": [
    "*Tha AQI among most cities spiked on Nov, Dec, Jan & Feb months, Could be an indicator of how the way of celebrating certain festivals(which fall during or close to these months) effect the environment around us.*"
   ]
  },
  {
   "cell_type": "code",
   "execution_count": null,
   "metadata": {
    "id": "SlNxRoO3DLDy"
   },
   "outputs": [],
   "source": [
    "df1= pd.read_csv('Indian Cities Database.csv')\n",
    "df1.rename(columns={'City': 'city'}, inplace=True)"
   ]
  },
  {
   "cell_type": "code",
   "execution_count": null,
   "metadata": {
    "colab": {
     "base_uri": "https://localhost:8080/",
     "height": 112
    },
    "id": "fI1XfHDjEC62",
    "outputId": "321f8846-79ff-4175-a9c2-6ae59c8baa58"
   },
   "outputs": [],
   "source": [
    "df1.head(2)"
   ]
  },
  {
   "cell_type": "code",
   "execution_count": null,
   "metadata": {
    "colab": {
     "base_uri": "https://localhost:8080/",
     "height": 112
    },
    "id": "4sdFK7OhDrQZ",
    "outputId": "a27f8977-f11c-439b-a8a8-6afcbc95d806"
   },
   "outputs": [],
   "source": [
    "df.head(2)"
   ]
  },
  {
   "cell_type": "code",
   "execution_count": null,
   "metadata": {
    "colab": {
     "base_uri": "https://localhost:8080/",
     "height": 600
    },
    "id": "2XYm8pYMDgfD",
    "outputId": "2a354dab-5065-469b-f029-5bad52cbfcfa"
   },
   "outputs": [],
   "source": [
    "df_2 = pd.merge(df, df1, how = 'left', left_on = 'City',right_on = 'city')\n",
    "df_2.head(10)"
   ]
  },
  {
   "cell_type": "code",
   "execution_count": null,
   "metadata": {
    "colab": {
     "base_uri": "https://localhost:8080/",
     "height": 206
    },
    "id": "-wEXSvWgDoqO",
    "outputId": "e91ad3ee-51a0-4893-f504-c223499ad626"
   },
   "outputs": [],
   "source": [
    "df_2 = df_2[['City', 'AQI_Bucket', 'AQI', 'Lat', 'Long']]\n",
    "df_2.head()\n"
   ]
  },
  {
   "cell_type": "code",
   "execution_count": null,
   "metadata": {
    "colab": {
     "base_uri": "https://localhost:8080/",
     "height": 489
    },
    "id": "IIyMQabFEcym",
    "outputId": "d96e76a2-35ca-42db-cf5f-8cd77a1cb93e"
   },
   "outputs": [],
   "source": [
    "df_2.plot(x='Long',y='Lat',kind = 'scatter',c='AQI',colormap = 'YlOrRd')"
   ]
  },
  {
   "cell_type": "code",
   "execution_count": null,
   "metadata": {
    "colab": {
     "base_uri": "https://localhost:8080/",
     "height": 549
    },
    "id": "tZRsfldpGcQh",
    "outputId": "5b7e1c08-6fbc-4fc1-ef8f-8f0a68bfa6eb"
   },
   "outputs": [],
   "source": [
    "import geopandas as gpd\n",
    "countries = gpd.read_file(gpd.datasets.get_path(\"naturalearth_lowres\"))\n",
    "countries[countries['name']=='India'].plot(color='lightgrey')"
   ]
  },
  {
   "cell_type": "code",
   "execution_count": null,
   "metadata": {
    "colab": {
     "base_uri": "https://localhost:8080/",
     "height": 724
    },
    "id": "XzYjA0JCGpNd",
    "outputId": "b55c42a2-0ff0-4cfc-b902-ab1b69e733c0"
   },
   "outputs": [],
   "source": [
    "fig, ax = plt.subplots(figsize=(15, 8))\n",
    "countries[countries['name'] == 'India'].plot(color='lightgrey', ax=ax)\n",
    "df_2.plot(x='Long', y='Lat', kind='scatter', c='AQI', colormap='YlOrRd', ax=ax)\n",
    "\n",
    "for idx, row in df_2.iterrows():\n",
    "    ax.annotate(str('   ' + row['City']), (row['Long'], row['Lat']), size=9)\n",
    "\n",
    "ax.grid(True, alpha=0.5)\n",
    "plt.show()\n"
   ]
  },
  {
   "cell_type": "code",
   "execution_count": null,
   "metadata": {
    "colab": {
     "base_uri": "https://localhost:8080/",
     "height": 206
    },
    "id": "X0kqb2LeIrfw",
    "outputId": "f53d11ec-5a1e-4aff-e74d-aa9584d617c8"
   },
   "outputs": [],
   "source": [
    "df.head()"
   ]
  },
  {
   "cell_type": "markdown",
   "metadata": {
    "id": "-bi2OJ4cThV8"
   },
   "source": [
    "**Categorical data encoding**  _________  **Feature Engineering**"
   ]
  },
  {
   "cell_type": "code",
   "execution_count": null,
   "metadata": {
    "colab": {
     "base_uri": "https://localhost:8080/",
     "height": 206
    },
    "id": "P1q5586dBzKg",
    "outputId": "cad54ad2-188e-4a73-97d7-504fee1af913"
   },
   "outputs": [],
   "source": [
    "df.head(5)"
   ]
  },
  {
   "cell_type": "code",
   "execution_count": null,
   "metadata": {
    "colab": {
     "base_uri": "https://localhost:8080/",
     "height": 489
    },
    "id": "8n_NoNj7OM8z",
    "outputId": "52e86030-4ee4-4103-c081-a92cf6aac59b"
   },
   "outputs": [],
   "source": [
    "import seaborn as sns\n",
    "sns.regplot(x=\"PM2.5\",y=\"AQI\",data=df)\n",
    "plt.ylim(0,)"
   ]
  },
  {
   "cell_type": "code",
   "execution_count": null,
   "metadata": {
    "colab": {
     "base_uri": "https://localhost:8080/",
     "height": 489
    },
    "id": "s3Pn19RPOM29",
    "outputId": "cdaf1e16-6ca4-40e9-92a5-ec5c9ebfadd4"
   },
   "outputs": [],
   "source": [
    "import seaborn as sns\n",
    "sns.regplot(x=\"PM10\",y=\"AQI\",data=df)\n",
    "plt.ylim(0,)"
   ]
  },
  {
   "cell_type": "code",
   "execution_count": null,
   "metadata": {
    "colab": {
     "base_uri": "https://localhost:8080/",
     "height": 489
    },
    "id": "iiDDTIU7SzYI",
    "outputId": "11b909e1-00a5-47e7-fd5f-72b491cb50f6"
   },
   "outputs": [],
   "source": [
    "import seaborn as sns\n",
    "sns.regplot(x=\"NO\",y=\"AQI\",data=df)\n",
    "plt.ylim(0,)"
   ]
  },
  {
   "cell_type": "code",
   "execution_count": null,
   "metadata": {
    "colab": {
     "base_uri": "https://localhost:8080/",
     "height": 489
    },
    "id": "KH2jy4qSS-Sn",
    "outputId": "8c76859f-eb06-4a48-d04e-313f0bb1fea9"
   },
   "outputs": [],
   "source": [
    "import seaborn as sns\n",
    "sns.regplot(x=\"NH3\",y=\"AQI\",data=df)\n",
    "plt.ylim(0,)"
   ]
  },
  {
   "cell_type": "code",
   "execution_count": null,
   "metadata": {
    "id": "t5sNCQ6FToWk"
   },
   "outputs": [],
   "source": [
    "df['Year'] = df['Date'].dt.year\n",
    "df['Month'] = df['Date'].dt.month\n",
    "df['Day'] = df['Date'].dt.day"
   ]
  },
  {
   "cell_type": "code",
   "execution_count": null,
   "metadata": {
    "id": "81xJiP6rY_2D"
   },
   "outputs": [],
   "source": [
    "encoded_city = pd.get_dummies(df['City'], prefix='City')\n",
    "df = pd.concat([df, encoded_city], axis=1)"
   ]
  },
  {
   "cell_type": "code",
   "execution_count": null,
   "metadata": {
    "id": "6SXAiCMwZDmt"
   },
   "outputs": [],
   "source": [
    "from sklearn.preprocessing import LabelEncoder\n",
    "label_encoder = LabelEncoder()\n",
    "df['AQI_Bucket_Label'] = label_encoder.fit_transform(df['AQI_Bucket'])\n"
   ]
  },
  {
   "cell_type": "markdown",
   "metadata": {
    "id": "Jq4s7FkqQE2z"
   },
   "source": []
  },
  {
   "cell_type": "code",
   "execution_count": null,
   "metadata": {
    "colab": {
     "base_uri": "https://localhost:8080/"
    },
    "id": "4bXOtDbLUWG8",
    "outputId": "2e131139-7bf2-43a1-ac85-3941337fcec3"
   },
   "outputs": [],
   "source": [
    "df.dtypes"
   ]
  },
  {
   "cell_type": "markdown",
   "metadata": {
    "id": "l5TpfZf0IUEJ"
   },
   "source": [
    "**Machine Learning Model Training:**"
   ]
  },
  {
   "cell_type": "code",
   "execution_count": null,
   "metadata": {
    "colab": {
     "base_uri": "https://localhost:8080/",
     "height": 240
    },
    "id": "YP4qrP5l-pNA",
    "outputId": "1bc41c54-d97e-4cca-ea3a-386c009d3324"
   },
   "outputs": [],
   "source": [
    "df. head(2)"
   ]
  },
  {
   "cell_type": "code",
   "execution_count": null,
   "metadata": {
    "colab": {
     "base_uri": "https://localhost:8080/",
     "height": 112
    },
    "id": "ANl4XwLZNm-6",
    "outputId": "068de94e-fee5-4245-e5c2-1ca01edd1495"
   },
   "outputs": [],
   "source": [
    "# Extract the features (X) and target variable (y)\n",
    "features1 = df[['Year','Month','Day','PM2.5', 'PM10', 'NO', 'NO2', 'NOx', 'CO', 'SO2']]\n",
    "features = df[['Year','Month','Day','PM2.5', 'PM10', 'NO', 'NO2', 'NOx', 'CO', 'SO2','AQI_Bucket_Label']]\n",
    "target = df[['AQI']]\n",
    "features.head(2)"
   ]
  },
  {
   "cell_type": "markdown",
   "metadata": {
    "id": "feFlIKC0PO_e"
   },
   "source": [
    "**Spliting The data into traning and testing dataset**"
   ]
  },
  {
   "cell_type": "code",
   "execution_count": null,
   "metadata": {
    "id": "nWjRhUTzPOha"
   },
   "outputs": [],
   "source": [
    "X1_train, X1_test, y_train, y_test = train_test_split(features1, target, test_size=0.3, random_state=10)\n",
    "X_train, X_test, y_train, y_test = train_test_split(features, target, test_size=0.3, random_state=10)"
   ]
  },
  {
   "cell_type": "markdown",
   "metadata": {
    "id": "yR_y2N_KSMxo"
   },
   "source": [
    "**Linear Regression Model**"
   ]
  },
  {
   "cell_type": "code",
   "execution_count": null,
   "metadata": {
    "colab": {
     "base_uri": "https://localhost:8080/"
    },
    "id": "yi_B5YmKO_PD",
    "outputId": "9cc4cb09-e067-439e-9f0f-4f9cf17d0247"
   },
   "outputs": [],
   "source": [
    "linear_model = LinearRegression()\n",
    "linear_model.fit(X1_train, y_train)\n",
    "linear_predictions = linear_model.predict(X1_test)\n",
    "linear_mse = mean_squared_error(y_test, linear_predictions)\n",
    "linear_r2 = r2_score(y_test, linear_predictions)\n",
    "print(\"Linear Regression - Mean Squared Error:\", linear_mse)\n",
    "print(\"Linear Regression - R2 Score:\", linear_r2)"
   ]
  },
  {
   "cell_type": "markdown",
   "metadata": {
    "id": "KaQjwGepU95T"
   },
   "source": [
    "**Decision Tree**"
   ]
  },
  {
   "cell_type": "code",
   "execution_count": null,
   "metadata": {
    "colab": {
     "base_uri": "https://localhost:8080/"
    },
    "id": "oapxVA1TRU_U",
    "outputId": "1b7e93ff-575d-4e43-ab18-172c1da08926"
   },
   "outputs": [],
   "source": [
    "tree_model = DecisionTreeRegressor()\n",
    "tree_model.fit(X_train, y_train)\n",
    "tree_predictions = tree_model.predict(X_test)\n",
    "tree_mse = mean_squared_error(y_test, tree_predictions)\n",
    "tree_r2 = r2_score(y_test, tree_predictions)\n",
    "print(\"Decision Tree - Mean Squared Error:\", tree_mse)\n",
    "print(\"Decision Tree - R2 Score:\", tree_r2)"
   ]
  },
  {
   "cell_type": "markdown",
   "metadata": {
    "id": "gbXdj07XVA1G"
   },
   "source": [
    "**Random Forest**"
   ]
  },
  {
   "cell_type": "code",
   "execution_count": null,
   "metadata": {
    "colab": {
     "base_uri": "https://localhost:8080/"
    },
    "id": "J-LL6jXlRU7z",
    "outputId": "68c9b79b-b484-461d-bbf4-ec573813a47d"
   },
   "outputs": [],
   "source": [
    "forest_model = RandomForestRegressor()\n",
    "forest_model.fit(X_train, y_train)\n",
    "forest_predictions = forest_model.predict(X_test)\n",
    "forest_mse = mean_squared_error(y_test, forest_predictions)\n",
    "forest_r2 = r2_score(y_test, forest_predictions)\n",
    "print(\"Random Forest - Mean Squared Error:\", forest_mse)\n",
    "print(\"Random Forest - R2 Score:\", forest_r2)"
   ]
  },
  {
   "cell_type": "code",
   "execution_count": null,
   "metadata": {
    "id": "GSH76jNNVO5w"
   },
   "outputs": [],
   "source": []
  },
  {
   "cell_type": "markdown",
   "metadata": {
    "id": "a0tffXvZVdcW"
   },
   "source": [
    "**XGBOOST**"
   ]
  },
  {
   "cell_type": "code",
   "execution_count": null,
   "metadata": {
    "colab": {
     "base_uri": "https://localhost:8080/"
    },
    "id": "gAl57prHVeGJ",
    "outputId": "f99071b6-c3e3-44a1-e9fc-cb0bc5a6120d"
   },
   "outputs": [],
   "source": [
    "xgb_model = xgb.XGBRegressor()\n",
    "xgb_model.fit(X_train, y_train)\n",
    "xgb_predictions = xgb_model.predict(X_test)\n",
    "xgb_mse = mean_squared_error(y_test, xgb_predictions)\n",
    "xgb_r2 = r2_score(y_test, xgb_predictions)\n",
    "print(\"XGBoost - Mean Squared Error:\", xgb_mse)\n",
    "print(\"XGBoost - R2 Score:\", xgb_r2)"
   ]
  },
  {
   "cell_type": "markdown",
   "metadata": {
    "id": "3yTn6E9u-ljd"
   },
   "source": [
    "**LightGBM**"
   ]
  },
  {
   "cell_type": "code",
   "execution_count": null,
   "metadata": {
    "colab": {
     "base_uri": "https://localhost:8080/"
    },
    "id": "2n_iayPJ-gnI",
    "outputId": "2befad0a-38b1-4d9c-f6c0-e5319d173e3b"
   },
   "outputs": [],
   "source": [
    "import lightgbm as lgb\n",
    "lgb_model = lgb.LGBMRegressor()\n",
    "lgb_train = lgb.Dataset(X_train, y_train)\n",
    "lgb_eval = lgb.Dataset(X_test, y_test, reference=lgb_train)\n",
    "# defining parameters\n",
    "params = {\n",
    "    'task': 'train',\n",
    "    'boosting': 'gbdt',\n",
    "    'objective': 'regression',\n",
    "    'num_leaves': 10,\n",
    "    'learnnig_rage': 0.05,\n",
    "    'metric': {'l2','l1'},\n",
    "    'verbose': -1\n",
    "}\n",
    "model = lgb.train(params,train_set=lgb_train,valid_sets=lgb_eval, early_stopping_rounds=30)\n",
    "y_pred = model.predict(X_test)\n",
    "\n",
    "# accuracy check\n",
    "mse = mean_squared_error(y_test, y_pred)\n",
    "rmse = mse**(0.5)\n",
    "print(\"MSE: %.2f\" % mse)\n",
    "print(\"RMSE: %.2f\" % rmse)\n",
    "lgb_r2 = r2_score(y_test, y_pred)\n",
    "print(\"LightGBM - R2 Score:\", lgb_r2)"
   ]
  },
  {
   "cell_type": "code",
   "execution_count": null,
   "metadata": {
    "colab": {
     "base_uri": "https://localhost:8080/",
     "height": 516
    },
    "id": "viUuhUMzBf_v",
    "outputId": "d8e60445-4baa-453b-d10e-ddb1b92e9913"
   },
   "outputs": [],
   "source": [
    "lgb.plot_importance(model, height=.5)"
   ]
  },
  {
   "cell_type": "markdown",
   "metadata": {
    "id": "QxJnHTB8WUSj"
   },
   "source": [
    "**Ensemble Learning using Bagging**"
   ]
  },
  {
   "cell_type": "code",
   "execution_count": null,
   "metadata": {
    "id": "mDvwsqitWUDT"
   },
   "outputs": [],
   "source": [
    "#Creating the bagging ensemble model\n",
    "bagging_model = BaggingRegressor(base_estimator=None, n_estimators=10, random_state=42)"
   ]
  },
  {
   "cell_type": "markdown",
   "metadata": {
    "id": "grd-kfzeXcn_"
   },
   "source": [
    "Adding the base estimators to the bagging ensemble model"
   ]
  },
  {
   "cell_type": "code",
   "execution_count": null,
   "metadata": {
    "id": "Pem2DTjPXWgJ"
   },
   "outputs": [],
   "source": [
    "bagging_model.estimators_ = [linear_model, tree_model, lgb_model, xgb_model]"
   ]
  },
  {
   "cell_type": "markdown",
   "metadata": {
    "id": "NjoJENEBX1T5"
   },
   "source": [
    "Train and evaluate the ensemble model"
   ]
  },
  {
   "cell_type": "code",
   "execution_count": null,
   "metadata": {
    "colab": {
     "base_uri": "https://localhost:8080/"
    },
    "id": "jK-h616kXiyR",
    "outputId": "213a2340-978b-48ba-a6e7-bd6f4fd7c924"
   },
   "outputs": [],
   "source": [
    "bagging_model.fit(X_train, y_train)\n",
    "ensemble_predictions = bagging_model.predict(X_test)\n",
    "ensemble_mse = mean_squared_error(y_test, ensemble_predictions)\n",
    "ensemble_r2 = r2_score(y_test, ensemble_predictions)\n",
    "print(\"Ensemble - Mean Squared Error:\", ensemble_mse)\n",
    "print(\"Ensemble - R2 Score:\", ensemble_r2)"
   ]
  },
  {
   "cell_type": "code",
   "execution_count": null,
   "metadata": {
    "id": "Uiv_q108aJ83"
   },
   "outputs": [],
   "source": []
  },
  {
   "cell_type": "code",
   "execution_count": null,
   "metadata": {
    "id": "wNRWBJKS5G3F"
   },
   "outputs": [],
   "source": []
  },
  {
   "cell_type": "code",
   "execution_count": null,
   "metadata": {
    "id": "SSPlAYkxHyBg"
   },
   "outputs": [],
   "source": []
  },
  {
   "cell_type": "code",
   "execution_count": null,
   "metadata": {
    "colab": {
     "base_uri": "https://localhost:8080/"
    },
    "id": "uuWaPNUHLNkz",
    "outputId": "4f3a3984-cfe4-4ca4-a9ee-ca2fc8b8180c"
   },
   "outputs": [],
   "source": [
    "pip install flask"
   ]
  },
  {
   "cell_type": "code",
   "execution_count": null,
   "metadata": {
    "id": "XpzFDbk8olGg"
   },
   "outputs": [],
   "source": []
  }
 ],
 "metadata": {
  "colab": {
   "provenance": []
  },
  "kernelspec": {
   "display_name": "Python 3 (ipykernel)",
   "language": "python",
   "name": "python3"
  },
  "language_info": {
   "codemirror_mode": {
    "name": "ipython",
    "version": 3
   },
   "file_extension": ".py",
   "mimetype": "text/x-python",
   "name": "python",
   "nbconvert_exporter": "python",
   "pygments_lexer": "ipython3",
   "version": "3.11.3"
  }
 },
 "nbformat": 4,
 "nbformat_minor": 1
}
